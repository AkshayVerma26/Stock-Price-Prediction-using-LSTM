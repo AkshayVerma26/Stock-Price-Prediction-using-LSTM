{
 "cells": [
  {
   "cell_type": "markdown",
   "metadata": {},
   "source": [
    "### <b>Stock Price Predictor using LSTM</b>\n",
    "##### <b>Including Libraries</b>"
   ]
  },
  {
   "cell_type": "code",
   "execution_count": 2,
   "metadata": {},
   "outputs": [],
   "source": [
    "import pandas as pd\n",
    "import numpy as np\n",
    "from keras.layers import Dense, LSTM\n",
    "from keras.models import Sequential\n",
    "from sklearn.preprocessing import MinMaxScaler\n",
    "from sklearn.metrics import mean_squared_error, mean_absolute_percentage_error\n",
    "import pandas_datareader as pdr\n",
    "import datetime as dt\n",
    "import matplotlib.pyplot as plt"
   ]
  },
  {
   "cell_type": "markdown",
   "metadata": {},
   "source": [
    "##### <b>Train-Test Data Generator and Splitter</b>\n",
    "First function splits the data into chunks of 20 since we will be using last 20 days data to predict the next day's closing price.\n",
    "Second function generates train and test data in a ratio of 4:1 for the model."
   ]
  },
  {
   "cell_type": "code",
   "execution_count": 3,
   "metadata": {},
   "outputs": [],
   "source": [
    "def lstm_split(data, step):\n",
    "    x,y = [],[]\n",
    "    for i in range(len(data)-step+1):\n",
    "        x.append(data[i:i+step,:-1])\n",
    "        y.append(data[i+step-1,-1])\n",
    "    return np.array(x),np.array(y)\n",
    "\n",
    "def lstm_train_test(x, y, d):\n",
    "    split_ratio = 0.8\n",
    "    split_idx = int(np.ceil(len(x)*split_ratio))\n",
    "    x1, x2 = x[:split_idx], x[split_idx:]\n",
    "    y1, y2 = y[:split_idx], y[split_idx:]\n",
    "    d1, d2 = d[:split_idx], d[split_idx:]\n",
    "    return x1, x2, y1, y2, d1, d2"
   ]
  },
  {
   "cell_type": "markdown",
   "metadata": {},
   "source": [
    "##### Accessing Data and  Preprocessing"
   ]
  },
  {
   "cell_type": "code",
   "execution_count": 17,
   "metadata": {},
   "outputs": [],
   "source": [
    "apple_stocks = pdr.get_data_yahoo('AAPL',start=dt.datetime(2016,10,1),end=dt.datetime(2022,1,1))\n",
    "data_features = apple_stocks.iloc[:,0:4]\n",
    "scaler = MinMaxScaler(feature_range=(0,1))\n",
    "data_fit = scaler.fit_transform(data_features.values)\n",
    "data_fit = pd.DataFrame(data = data_fit, columns = data_features.columns, index = data_features.index)\n",
    "time_step = 20\n",
    "sc = scaler.scale_\n",
    "s = data_fit.values[0,0]/data_features.values[0,0]\n",
    "dates = apple_stocks.index[19:]\n",
    "x_features, y_target = lstm_split(data_fit.values, time_step)\n",
    "x_train, x_test, y_train, y_test, d_train, d_test = lstm_train_test(x_features, y_target, dates)"
   ]
  },
  {
   "cell_type": "markdown",
   "metadata": {},
   "source": [
    "##### Building LSTM Model\n",
    "Using 2 LSTM layers with 50 neurons each along with a Dense layer to generate the prediction.. The model uses relu activation function, mean_squared_error for loss calculation and *adam* for optimisation. Using 30 epochs to train the model."
   ]
  },
  {
   "cell_type": "code",
   "execution_count": 18,
   "metadata": {},
   "outputs": [
    {
     "name": "stdout",
     "output_type": "stream",
     "text": [
      "Epoch 1/50\n",
      "261/261 [==============================] - 3s 7ms/step - loss: 7.8380e-04\n",
      "Epoch 2/50\n",
      "261/261 [==============================] - 2s 7ms/step - loss: 0.0033\n",
      "Epoch 3/50\n",
      "261/261 [==============================] - 2s 7ms/step - loss: 0.0037\n",
      "Epoch 4/50\n",
      "261/261 [==============================] - 2s 7ms/step - loss: 0.0021\n",
      "Epoch 5/50\n",
      "261/261 [==============================] - 2s 7ms/step - loss: 0.0020\n",
      "Epoch 6/50\n",
      "261/261 [==============================] - 2s 7ms/step - loss: 0.0012\n",
      "Epoch 7/50\n",
      "261/261 [==============================] - 2s 7ms/step - loss: 7.2637e-04\n",
      "Epoch 8/50\n",
      "261/261 [==============================] - 2s 7ms/step - loss: 5.4542e-04\n",
      "Epoch 9/50\n",
      "261/261 [==============================] - 2s 8ms/step - loss: 3.9759e-04\n",
      "Epoch 10/50\n",
      "261/261 [==============================] - 2s 7ms/step - loss: 3.5796e-04\n",
      "Epoch 11/50\n",
      "261/261 [==============================] - 2s 8ms/step - loss: 3.3533e-04\n",
      "Epoch 12/50\n",
      "261/261 [==============================] - 2s 8ms/step - loss: 3.2875e-04\n",
      "Epoch 13/50\n",
      "261/261 [==============================] - 2s 7ms/step - loss: 3.1368e-04\n",
      "Epoch 14/50\n",
      "261/261 [==============================] - 2s 7ms/step - loss: 2.9204e-04\n",
      "Epoch 15/50\n",
      "261/261 [==============================] - 2s 8ms/step - loss: 2.8020e-04\n",
      "Epoch 16/50\n",
      "261/261 [==============================] - 2s 8ms/step - loss: 2.6581e-04\n",
      "Epoch 17/50\n",
      "261/261 [==============================] - 2s 8ms/step - loss: 2.5889e-04\n",
      "Epoch 18/50\n",
      "261/261 [==============================] - 2s 8ms/step - loss: 2.4426e-04\n",
      "Epoch 19/50\n",
      "261/261 [==============================] - 2s 8ms/step - loss: 2.3150e-04\n",
      "Epoch 20/50\n",
      "261/261 [==============================] - 2s 8ms/step - loss: 2.1658e-04\n",
      "Epoch 21/50\n",
      "261/261 [==============================] - 2s 8ms/step - loss: 2.0056e-04\n",
      "Epoch 22/50\n",
      "261/261 [==============================] - 2s 8ms/step - loss: 1.8956e-04\n",
      "Epoch 23/50\n",
      "261/261 [==============================] - 2s 8ms/step - loss: 1.7655e-04\n",
      "Epoch 24/50\n",
      "261/261 [==============================] - 2s 8ms/step - loss: 1.5894e-04\n",
      "Epoch 25/50\n",
      "261/261 [==============================] - 2s 8ms/step - loss: 1.4698e-04\n",
      "Epoch 26/50\n",
      "261/261 [==============================] - 2s 8ms/step - loss: 1.3115e-04\n",
      "Epoch 27/50\n",
      "261/261 [==============================] - 2s 8ms/step - loss: 1.1497e-04\n",
      "Epoch 28/50\n",
      "261/261 [==============================] - 2s 8ms/step - loss: 1.1279e-04\n",
      "Epoch 29/50\n",
      "261/261 [==============================] - 2s 8ms/step - loss: 9.5582e-05\n",
      "Epoch 30/50\n",
      "261/261 [==============================] - 2s 8ms/step - loss: 9.4836e-05\n",
      "Epoch 31/50\n",
      "261/261 [==============================] - 2s 8ms/step - loss: 9.2148e-05\n",
      "Epoch 32/50\n",
      "261/261 [==============================] - 2s 8ms/step - loss: 8.4769e-05\n",
      "Epoch 33/50\n",
      "261/261 [==============================] - 2s 8ms/step - loss: 7.5478e-05\n",
      "Epoch 34/50\n",
      "261/261 [==============================] - 2s 8ms/step - loss: 8.1053e-05\n",
      "Epoch 35/50\n",
      "261/261 [==============================] - 2s 8ms/step - loss: 9.5176e-05\n",
      "Epoch 36/50\n",
      "261/261 [==============================] - 2s 8ms/step - loss: 1.1299e-04\n",
      "Epoch 37/50\n",
      "261/261 [==============================] - 2s 8ms/step - loss: 1.3102e-04\n",
      "Epoch 38/50\n",
      "261/261 [==============================] - 2s 8ms/step - loss: 8.1335e-05\n",
      "Epoch 39/50\n",
      "261/261 [==============================] - 2s 8ms/step - loss: 6.8439e-05\n",
      "Epoch 40/50\n",
      "261/261 [==============================] - 2s 8ms/step - loss: 6.9687e-05\n",
      "Epoch 41/50\n",
      "261/261 [==============================] - 2s 8ms/step - loss: 7.0099e-05\n",
      "Epoch 42/50\n",
      "261/261 [==============================] - 2s 8ms/step - loss: 6.8319e-05\n",
      "Epoch 43/50\n",
      "261/261 [==============================] - 2s 8ms/step - loss: 6.8478e-05\n",
      "Epoch 44/50\n",
      "261/261 [==============================] - 2s 8ms/step - loss: 6.8402e-05\n",
      "Epoch 45/50\n",
      "261/261 [==============================] - 2s 8ms/step - loss: 6.9271e-05\n",
      "Epoch 46/50\n",
      "261/261 [==============================] - 2s 8ms/step - loss: 7.3845e-05\n",
      "Epoch 47/50\n",
      "261/261 [==============================] - 2s 8ms/step - loss: 7.6241e-05\n",
      "Epoch 48/50\n",
      "261/261 [==============================] - 2s 8ms/step - loss: 6.3529e-05\n",
      "Epoch 49/50\n",
      "261/261 [==============================] - 2s 8ms/step - loss: 7.9091e-05\n",
      "Epoch 50/50\n",
      "261/261 [==============================] - 2s 8ms/step - loss: 7.8269e-05\n"
     ]
    }
   ],
   "source": [
    "lstm = Sequential()\n",
    "lstm.add(LSTM(100, input_shape = (x_train.shape[1],x_train.shape[2]), activation = 'relu', return_sequences = True))\n",
    "lstm.add(LSTM(100, activation = 'relu', return_sequences = False))\n",
    "lstm.add(Dense(1))\n",
    "lstm.compile(loss = 'mean_squared_error', optimizer = 'adam')\n",
    "hist = lstm.fit(x_train, y_train, epochs = 50, batch_size = 4, verbose = 1, shuffle = False)"
   ]
  },
  {
   "cell_type": "markdown",
   "metadata": {},
   "source": [
    "##### Performance Evaluation on Test Data"
   ]
  },
  {
   "cell_type": "code",
   "execution_count": 19,
   "metadata": {},
   "outputs": [
    {
     "name": "stdout",
     "output_type": "stream",
     "text": [
      "9/9 [==============================] - 0s 4ms/step\n"
     ]
    },
    {
     "data": {
      "text/plain": [
       "<matplotlib.legend.Legend at 0x170efc10ee0>"
      ]
     },
     "execution_count": 19,
     "metadata": {},
     "output_type": "execute_result"
    },
    {
     "data": {
      "image/png": "[encoded data removed]",
      "text/plain": [
       "<Figure size 432x288 with 1 Axes>"
      ]
     },
     "metadata": {
      "needs_background": "light"
     },
     "output_type": "display_data"
    },
    {
     "data": {
      "image/png": "[encoded data removed]",
      "text/plain": [
       "<Figure size 432x288 with 1 Axes>"
      ]
     },
     "metadata": {
      "needs_background": "light"
     },
     "output_type": "display_data"
    }
   ],
   "source": [
    "plt.figure(0)\n",
    "plt.plot(hist.history['loss'])\n",
    "plt.ylabel('Loss')\n",
    "plt.xlabel('Epoch')\n",
    "y_predict = lstm.predict(x_test)\n",
    "l1 = data_fit.values[-260:,:]+y_predict\n",
    "l2 = []\n",
    "for x in y_test:\n",
    "    l2.append([x])\n",
    "l2 += data_fit.values[-260:,:]\n",
    "l1 = scaler.inverse_transform(l1)\n",
    "l2 = scaler.inverse_transform(l2)\n",
    "y_predict = l1[:,-1]\n",
    "y_test = l2[:,-1]\n",
    "plt.figure(1)\n",
    "plt.plot(d_test, y_predict, label = 'Predicted')\n",
    "plt.ylabel('Close')\n",
    "plt.xlabel('Dates')\n",
    "plt.plot(d_test, y_test, label = 'Actual')\n",
    "plt.legend()"
   ]
  },
  {
   "cell_type": "code",
   "execution_count": 20,
   "metadata": {},
   "outputs": [
    {
     "name": "stdout",
     "output_type": "stream",
     "text": [
      "RMSE Test: 6.7706927612995695\n",
      "MAPE Test: 0.016665270787169846\n"
     ]
    }
   ],
   "source": [
    "rmse_test = mean_squared_error(y_test, y_predict, squared=False)\n",
    "mape_test = mean_absolute_percentage_error(y_test, y_predict)\n",
    "print(\"RMSE Test:\",rmse_test)\n",
    "print(\"MAPE Test:\",mape_test)"
   ]
  }
 ],
 "metadata": {
  "kernelspec": {
   "display_name": "Python 3.8.10 64-bit",
   "language": "python",
   "name": "python3"
  },
  "language_info": {
   "codemirror_mode": {
    "name": "ipython",
    "version": 3
   },
   "file_extension": ".py",
   "mimetype": "text/x-python",
   "name": "python",
   "nbconvert_exporter": "python",
   "pygments_lexer": "ipython3",
   "version": "3.8.10"
  },
  "orig_nbformat": 4,
  "vscode": {
   "interpreter": {
    "hash": "5152ef394e6a45044023497234052ed4c24b0ab2a8b9261e3e3863d46f474b93"
   }
  }
 },
 "nbformat": 4,
 "nbformat_minor": 2
}
